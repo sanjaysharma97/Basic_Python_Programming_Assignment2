{
 "cells": [
  {
   "cell_type": "markdown",
   "id": "80aabd87",
   "metadata": {},
   "source": [
    "# 1. Write a Python program to convert kilometers to miles?\n",
    "\n",
    "ANSWER-"
   ]
  },
  {
   "cell_type": "code",
   "execution_count": 19,
   "id": "b3d41248",
   "metadata": {},
   "outputs": [
    {
     "name": "stdout",
     "output_type": "stream",
     "text": [
      "the distance in kilo : 5\n",
      "the distance in miles is: 3.105\n"
     ]
    }
   ],
   "source": [
    "Distance_in_kilometers=float(input(\"the distance in kilo : \"))\n",
    "print(f\"the distance in miles is: {Distance_in_kilometers*0.621}\")"
   ]
  },
  {
   "cell_type": "markdown",
   "id": "789d6ced",
   "metadata": {},
   "source": [
    "# 2. Write a Python program to convert Celsius to Fahrenheit?\n",
    "\n",
    "ANSWER-"
   ]
  },
  {
   "cell_type": "code",
   "execution_count": 20,
   "id": "b645d5af",
   "metadata": {},
   "outputs": [
    {
     "name": "stdout",
     "output_type": "stream",
     "text": [
      "the temperature in celsius : 200\n",
      "temperature in fahrenheit 392.0\n"
     ]
    }
   ],
   "source": [
    "def conversion():\n",
    "    Temperature_in_Celsius=float(input(\"the temperature in celsius : \"))\n",
    "    Temperature_in_Fahrenheit= (Temperature_in_Celsius*(9/5)+32)\n",
    "    print(f\"temperature in fahrenheit{Temperature_in_Fahrenheit : }\")\n",
    "conversion()"
   ]
  },
  {
   "cell_type": "markdown",
   "id": "588a379d",
   "metadata": {},
   "source": [
    "# 3. Write a Python program to display calendar?\n",
    "\n",
    "ANSWER-"
   ]
  },
  {
   "cell_type": "code",
   "execution_count": 29,
   "id": "f1601117",
   "metadata": {},
   "outputs": [
    {
     "name": "stdout",
     "output_type": "stream",
     "text": [
      "enter year: 2022\n",
      "                                  2022\n",
      "\n",
      "      January                   February                   March\n",
      "Mo Tu We Th Fr Sa Su      Mo Tu We Th Fr Sa Su      Mo Tu We Th Fr Sa Su\n",
      "                1  2          1  2  3  4  5  6          1  2  3  4  5  6\n",
      " 3  4  5  6  7  8  9       7  8  9 10 11 12 13       7  8  9 10 11 12 13\n",
      "10 11 12 13 14 15 16      14 15 16 17 18 19 20      14 15 16 17 18 19 20\n",
      "17 18 19 20 21 22 23      21 22 23 24 25 26 27      21 22 23 24 25 26 27\n",
      "24 25 26 27 28 29 30      28                        28 29 30 31\n",
      "31\n",
      "\n",
      "       April                      May                       June\n",
      "Mo Tu We Th Fr Sa Su      Mo Tu We Th Fr Sa Su      Mo Tu We Th Fr Sa Su\n",
      "             1  2  3                         1             1  2  3  4  5\n",
      " 4  5  6  7  8  9 10       2  3  4  5  6  7  8       6  7  8  9 10 11 12\n",
      "11 12 13 14 15 16 17       9 10 11 12 13 14 15      13 14 15 16 17 18 19\n",
      "18 19 20 21 22 23 24      16 17 18 19 20 21 22      20 21 22 23 24 25 26\n",
      "25 26 27 28 29 30         23 24 25 26 27 28 29      27 28 29 30\n",
      "                          30 31\n",
      "\n",
      "        July                     August                  September\n",
      "Mo Tu We Th Fr Sa Su      Mo Tu We Th Fr Sa Su      Mo Tu We Th Fr Sa Su\n",
      "             1  2  3       1  2  3  4  5  6  7                1  2  3  4\n",
      " 4  5  6  7  8  9 10       8  9 10 11 12 13 14       5  6  7  8  9 10 11\n",
      "11 12 13 14 15 16 17      15 16 17 18 19 20 21      12 13 14 15 16 17 18\n",
      "18 19 20 21 22 23 24      22 23 24 25 26 27 28      19 20 21 22 23 24 25\n",
      "25 26 27 28 29 30 31      29 30 31                  26 27 28 29 30\n",
      "\n",
      "      October                   November                  December\n",
      "Mo Tu We Th Fr Sa Su      Mo Tu We Th Fr Sa Su      Mo Tu We Th Fr Sa Su\n",
      "                1  2          1  2  3  4  5  6                1  2  3  4\n",
      " 3  4  5  6  7  8  9       7  8  9 10 11 12 13       5  6  7  8  9 10 11\n",
      "10 11 12 13 14 15 16      14 15 16 17 18 19 20      12 13 14 15 16 17 18\n",
      "17 18 19 20 21 22 23      21 22 23 24 25 26 27      19 20 21 22 23 24 25\n",
      "24 25 26 27 28 29 30      28 29 30                  26 27 28 29 30 31\n",
      "31\n",
      "\n"
     ]
    }
   ],
   "source": [
    "import calendar\n",
    "def showCalendar():\n",
    "    year=int(input(\"enter year: \"))\n",
    "    print(calendar.calendar(year))\n",
    "showCalendar()    \n"
   ]
  },
  {
   "cell_type": "markdown",
   "id": "18fd8d7e",
   "metadata": {},
   "source": [
    "# 4. Write a Python program to solve quadratic equation?\n",
    "\n",
    "ANSWER-"
   ]
  },
  {
   "cell_type": "code",
   "execution_count": 49,
   "id": "75bde14e",
   "metadata": {},
   "outputs": [
    {
     "name": "stdout",
     "output_type": "stream",
     "text": [
      "Enter a value: 4\n",
      "Enter b value: 1\n",
      "Enter c value: 6\n",
      "roots are imaginary:  (-0.125-1.2183492931011204j) (-0.125+1.2183492931011204j)\n"
     ]
    }
   ],
   "source": [
    "import math\n",
    "import cmath\n",
    "def quadratic_equation(a,b,c):\n",
    "    d=(b**2)-(4*a*c)\n",
    "    if d==0:\n",
    "        r1=-b/2*a\n",
    "        r2=-b/2*a\n",
    "        print(\"roots are real: \",r1,r2)\n",
    "    elif d>0:\n",
    "        r1=(-b-math.sqrt(d))/(2*a)\n",
    "        r2=(-b+math.sqrt(d))/(2*a)\n",
    "        print(\"roots are real and different: \",r1,r2)\n",
    "    else:\n",
    "        r1=(-b-cmath.sqrt(d))/(2*a)\n",
    "        r2=(-b+cmath.sqrt(d))/(2*a)\n",
    "        print(\"roots are imaginary: \",r1,r2)\n",
    "        \n",
    "    \n",
    "a = int(input('Enter a value: '))\n",
    "b = int(input('Enter b value: '))\n",
    "c = int(input('Enter c value: '))\n",
    "quadratic_equation(a,b,c)  "
   ]
  },
  {
   "cell_type": "markdown",
   "id": "646162f4",
   "metadata": {},
   "source": [
    "# 5. Write a Python program to swap two variables without temp variable?\n",
    "\n",
    "ANSWER-"
   ]
  },
  {
   "cell_type": "code",
   "execution_count": 52,
   "id": "14820a00",
   "metadata": {},
   "outputs": [
    {
     "name": "stdout",
     "output_type": "stream",
     "text": [
      "enter the value of a: 20\n",
      "enter the value of b: 30\n",
      "before swapping: 20 30\n",
      "after swapping 30 20\n"
     ]
    }
   ],
   "source": [
    "a=int(input(\"enter the value of a: \"))\n",
    "b=int(input(\"enter the value of b: \"))\n",
    "def Swap(a,b):\n",
    "    print(\"before swapping:\",a,b)\n",
    "    a=a+b\n",
    "    b=a-b\n",
    "    a=a-b\n",
    "    print(\"after swapping\",a,b)\n",
    "    \n",
    "Swap(a,b)    "
   ]
  },
  {
   "cell_type": "code",
   "execution_count": null,
   "id": "1326b068",
   "metadata": {},
   "outputs": [],
   "source": []
  }
 ],
 "metadata": {
  "kernelspec": {
   "display_name": "Python 3 (ipykernel)",
   "language": "python",
   "name": "python3"
  },
  "language_info": {
   "codemirror_mode": {
    "name": "ipython",
    "version": 3
   },
   "file_extension": ".py",
   "mimetype": "text/x-python",
   "name": "python",
   "nbconvert_exporter": "python",
   "pygments_lexer": "ipython3",
   "version": "3.9.12"
  }
 },
 "nbformat": 4,
 "nbformat_minor": 5
}
